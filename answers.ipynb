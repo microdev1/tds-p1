{
 "cells": [
  {
   "cell_type": "code",
   "execution_count": 1,
   "metadata": {},
   "outputs": [],
   "source": [
    "import pandas as pd"
   ]
  },
  {
   "cell_type": "code",
   "execution_count": 2,
   "metadata": {},
   "outputs": [
    {
     "data": {
      "text/html": [
       "<div>\n",
       "<style scoped>\n",
       "    .dataframe tbody tr th:only-of-type {\n",
       "        vertical-align: middle;\n",
       "    }\n",
       "\n",
       "    .dataframe tbody tr th {\n",
       "        vertical-align: top;\n",
       "    }\n",
       "\n",
       "    .dataframe thead th {\n",
       "        text-align: right;\n",
       "    }\n",
       "</style>\n",
       "<table border=\"1\" class=\"dataframe\">\n",
       "  <thead>\n",
       "    <tr style=\"text-align: right;\">\n",
       "      <th></th>\n",
       "      <th>login</th>\n",
       "      <th>name</th>\n",
       "      <th>company</th>\n",
       "      <th>location</th>\n",
       "      <th>email</th>\n",
       "      <th>hireable</th>\n",
       "      <th>bio</th>\n",
       "      <th>public_repos</th>\n",
       "      <th>followers</th>\n",
       "      <th>following</th>\n",
       "      <th>created_at</th>\n",
       "    </tr>\n",
       "  </thead>\n",
       "  <tbody>\n",
       "    <tr>\n",
       "      <th>0</th>\n",
       "      <td>tj</td>\n",
       "      <td>TJ Holowaychuk</td>\n",
       "      <td>APEX</td>\n",
       "      <td>London, UK</td>\n",
       "      <td>tj@apex.sh</td>\n",
       "      <td>False</td>\n",
       "      <td>NaN</td>\n",
       "      <td>326</td>\n",
       "      <td>50841</td>\n",
       "      <td>45</td>\n",
       "      <td>2008-09-18T22:37:28Z</td>\n",
       "    </tr>\n",
       "    <tr>\n",
       "      <th>1</th>\n",
       "      <td>kunal-kushwaha</td>\n",
       "      <td>Kunal Kushwaha</td>\n",
       "      <td>CIVO</td>\n",
       "      <td>London, UK</td>\n",
       "      <td>contact@techwithkunal.com</td>\n",
       "      <td>False</td>\n",
       "      <td>Field CTO @civo. Founder @WeMakeDevs</td>\n",
       "      <td>56</td>\n",
       "      <td>30745</td>\n",
       "      <td>0</td>\n",
       "      <td>2018-08-25T15:01:59Z</td>\n",
       "    </tr>\n",
       "    <tr>\n",
       "      <th>2</th>\n",
       "      <td>angelabauer</td>\n",
       "      <td>Angela Yu</td>\n",
       "      <td>APPBREWERY</td>\n",
       "      <td>London, UK</td>\n",
       "      <td>NaN</td>\n",
       "      <td>False</td>\n",
       "      <td>Medical doctor. Developer. Founder of the App ...</td>\n",
       "      <td>975</td>\n",
       "      <td>18607</td>\n",
       "      <td>0</td>\n",
       "      <td>2014-09-16T21:03:28Z</td>\n",
       "    </tr>\n",
       "    <tr>\n",
       "      <th>3</th>\n",
       "      <td>jlord</td>\n",
       "      <td>Jessica Lord</td>\n",
       "      <td>NaN</td>\n",
       "      <td>London, England</td>\n",
       "      <td>NaN</td>\n",
       "      <td>False</td>\n",
       "      <td>Urban designer turned open source developer. S...</td>\n",
       "      <td>197</td>\n",
       "      <td>16357</td>\n",
       "      <td>30</td>\n",
       "      <td>2012-01-05T03:24:52Z</td>\n",
       "    </tr>\n",
       "    <tr>\n",
       "      <th>4</th>\n",
       "      <td>Elfocrash</td>\n",
       "      <td>Nick Chapsas</td>\n",
       "      <td>NaN</td>\n",
       "      <td>London, UK</td>\n",
       "      <td>nick@nickchapsas.com</td>\n",
       "      <td>False</td>\n",
       "      <td>Content creator for C# &amp; .NET</td>\n",
       "      <td>50</td>\n",
       "      <td>10561</td>\n",
       "      <td>0</td>\n",
       "      <td>2014-07-18T09:32:23Z</td>\n",
       "    </tr>\n",
       "    <tr>\n",
       "      <th>...</th>\n",
       "      <td>...</td>\n",
       "      <td>...</td>\n",
       "      <td>...</td>\n",
       "      <td>...</td>\n",
       "      <td>...</td>\n",
       "      <td>...</td>\n",
       "      <td>...</td>\n",
       "      <td>...</td>\n",
       "      <td>...</td>\n",
       "      <td>...</td>\n",
       "      <td>...</td>\n",
       "    </tr>\n",
       "    <tr>\n",
       "      <th>296</th>\n",
       "      <td>AlexsJones</td>\n",
       "      <td>Alex Jones</td>\n",
       "      <td>AWS</td>\n",
       "      <td>London</td>\n",
       "      <td>alex@k8sgpt.ai</td>\n",
       "      <td>False</td>\n",
       "      <td>Principal Engineer @aws</td>\n",
       "      <td>252</td>\n",
       "      <td>512</td>\n",
       "      <td>60</td>\n",
       "      <td>2011-12-02T11:40:05Z</td>\n",
       "    </tr>\n",
       "    <tr>\n",
       "      <th>297</th>\n",
       "      <td>Rigellute</td>\n",
       "      <td>Alexander Keliris</td>\n",
       "      <td>KELIRIS CONSULTING</td>\n",
       "      <td>London</td>\n",
       "      <td>rigellute@gmail.com</td>\n",
       "      <td>False</td>\n",
       "      <td>Software consultant. Author of spotify-tui. Lo...</td>\n",
       "      <td>91</td>\n",
       "      <td>510</td>\n",
       "      <td>6</td>\n",
       "      <td>2015-04-28T08:47:01Z</td>\n",
       "    </tr>\n",
       "    <tr>\n",
       "      <th>298</th>\n",
       "      <td>benyaminahmed</td>\n",
       "      <td>Benyamin Ahmed</td>\n",
       "      <td>NaN</td>\n",
       "      <td>London, UK</td>\n",
       "      <td>NaN</td>\n",
       "      <td>False</td>\n",
       "      <td>NaN</td>\n",
       "      <td>10</td>\n",
       "      <td>510</td>\n",
       "      <td>0</td>\n",
       "      <td>2018-02-11T11:42:12Z</td>\n",
       "    </tr>\n",
       "    <tr>\n",
       "      <th>299</th>\n",
       "      <td>ryancdotorg</td>\n",
       "      <td>Ryan Castellucci</td>\n",
       "      <td>NaN</td>\n",
       "      <td>London, UK</td>\n",
       "      <td>github-1b66+210325@ryanc.org</td>\n",
       "      <td>True</td>\n",
       "      <td>Hacker. Bot slayer. Ex-sysadmin. Bureaucramanc...</td>\n",
       "      <td>133</td>\n",
       "      <td>508</td>\n",
       "      <td>10</td>\n",
       "      <td>2011-03-08T00:48:52Z</td>\n",
       "    </tr>\n",
       "    <tr>\n",
       "      <th>300</th>\n",
       "      <td>Neha</td>\n",
       "      <td>Neha Sharma</td>\n",
       "      <td>AMAZON</td>\n",
       "      <td>London</td>\n",
       "      <td>nsharma215@gmail.com</td>\n",
       "      <td>False</td>\n",
       "      <td>&lt;/&gt;</td>\n",
       "      <td>156</td>\n",
       "      <td>506</td>\n",
       "      <td>26</td>\n",
       "      <td>2009-03-09T16:58:14Z</td>\n",
       "    </tr>\n",
       "  </tbody>\n",
       "</table>\n",
       "<p>301 rows × 11 columns</p>\n",
       "</div>"
      ],
      "text/plain": [
       "              login               name             company         location  \\\n",
       "0                tj     TJ Holowaychuk                APEX       London, UK   \n",
       "1    kunal-kushwaha     Kunal Kushwaha                CIVO       London, UK   \n",
       "2       angelabauer          Angela Yu          APPBREWERY       London, UK   \n",
       "3             jlord       Jessica Lord                 NaN  London, England   \n",
       "4         Elfocrash       Nick Chapsas                 NaN       London, UK   \n",
       "..              ...                ...                 ...              ...   \n",
       "296      AlexsJones         Alex Jones                 AWS           London   \n",
       "297       Rigellute  Alexander Keliris  KELIRIS CONSULTING           London   \n",
       "298   benyaminahmed     Benyamin Ahmed                 NaN       London, UK   \n",
       "299     ryancdotorg   Ryan Castellucci                 NaN       London, UK   \n",
       "300            Neha        Neha Sharma              AMAZON           London   \n",
       "\n",
       "                            email  hireable  \\\n",
       "0                      tj@apex.sh     False   \n",
       "1       contact@techwithkunal.com     False   \n",
       "2                             NaN     False   \n",
       "3                             NaN     False   \n",
       "4            nick@nickchapsas.com     False   \n",
       "..                            ...       ...   \n",
       "296                alex@k8sgpt.ai     False   \n",
       "297           rigellute@gmail.com     False   \n",
       "298                           NaN     False   \n",
       "299  github-1b66+210325@ryanc.org      True   \n",
       "300          nsharma215@gmail.com     False   \n",
       "\n",
       "                                                   bio  public_repos  \\\n",
       "0                                                  NaN           326   \n",
       "1                Field CTO @civo. Founder @WeMakeDevs             56   \n",
       "2    Medical doctor. Developer. Founder of the App ...           975   \n",
       "3    Urban designer turned open source developer. S...           197   \n",
       "4                        Content creator for C# & .NET            50   \n",
       "..                                                 ...           ...   \n",
       "296                            Principal Engineer @aws           252   \n",
       "297  Software consultant. Author of spotify-tui. Lo...            91   \n",
       "298                                                NaN            10   \n",
       "299  Hacker. Bot slayer. Ex-sysadmin. Bureaucramanc...           133   \n",
       "300                                                </>           156   \n",
       "\n",
       "     followers  following            created_at  \n",
       "0        50841         45  2008-09-18T22:37:28Z  \n",
       "1        30745          0  2018-08-25T15:01:59Z  \n",
       "2        18607          0  2014-09-16T21:03:28Z  \n",
       "3        16357         30  2012-01-05T03:24:52Z  \n",
       "4        10561          0  2014-07-18T09:32:23Z  \n",
       "..         ...        ...                   ...  \n",
       "296        512         60  2011-12-02T11:40:05Z  \n",
       "297        510          6  2015-04-28T08:47:01Z  \n",
       "298        510          0  2018-02-11T11:42:12Z  \n",
       "299        508         10  2011-03-08T00:48:52Z  \n",
       "300        506         26  2009-03-09T16:58:14Z  \n",
       "\n",
       "[301 rows x 11 columns]"
      ]
     },
     "execution_count": 2,
     "metadata": {},
     "output_type": "execute_result"
    }
   ],
   "source": [
    "users = pd.read_csv(\"users.csv\")\n",
    "users"
   ]
  },
  {
   "cell_type": "code",
   "execution_count": 3,
   "metadata": {},
   "outputs": [
    {
     "data": {
      "text/html": [
       "<div>\n",
       "<style scoped>\n",
       "    .dataframe tbody tr th:only-of-type {\n",
       "        vertical-align: middle;\n",
       "    }\n",
       "\n",
       "    .dataframe tbody tr th {\n",
       "        vertical-align: top;\n",
       "    }\n",
       "\n",
       "    .dataframe thead th {\n",
       "        text-align: right;\n",
       "    }\n",
       "</style>\n",
       "<table border=\"1\" class=\"dataframe\">\n",
       "  <thead>\n",
       "    <tr style=\"text-align: right;\">\n",
       "      <th></th>\n",
       "      <th>login</th>\n",
       "      <th>full_name</th>\n",
       "      <th>created_at</th>\n",
       "      <th>stargazers_count</th>\n",
       "      <th>watchers_count</th>\n",
       "      <th>language</th>\n",
       "      <th>has_projects</th>\n",
       "      <th>has_wiki</th>\n",
       "      <th>license_name</th>\n",
       "    </tr>\n",
       "  </thead>\n",
       "  <tbody>\n",
       "    <tr>\n",
       "      <th>0</th>\n",
       "      <td>tj</td>\n",
       "      <td>tj/git-extras</td>\n",
       "      <td>2010-08-04T16:32:07Z</td>\n",
       "      <td>17309</td>\n",
       "      <td>210</td>\n",
       "      <td>Shell</td>\n",
       "      <td>True</td>\n",
       "      <td>True</td>\n",
       "      <td>mit</td>\n",
       "    </tr>\n",
       "    <tr>\n",
       "      <th>1</th>\n",
       "      <td>tj</td>\n",
       "      <td>tj/n</td>\n",
       "      <td>2011-01-05T14:53:19Z</td>\n",
       "      <td>18849</td>\n",
       "      <td>203</td>\n",
       "      <td>Shell</td>\n",
       "      <td>True</td>\n",
       "      <td>True</td>\n",
       "      <td>mit</td>\n",
       "    </tr>\n",
       "    <tr>\n",
       "      <th>2</th>\n",
       "      <td>tj</td>\n",
       "      <td>tj/commander.js</td>\n",
       "      <td>2011-08-14T21:33:58Z</td>\n",
       "      <td>26709</td>\n",
       "      <td>232</td>\n",
       "      <td>JavaScript</td>\n",
       "      <td>True</td>\n",
       "      <td>True</td>\n",
       "      <td>mit</td>\n",
       "    </tr>\n",
       "    <tr>\n",
       "      <th>3</th>\n",
       "      <td>tj</td>\n",
       "      <td>tj/node-migrate</td>\n",
       "      <td>2011-04-24T21:00:22Z</td>\n",
       "      <td>1542</td>\n",
       "      <td>18</td>\n",
       "      <td>JavaScript</td>\n",
       "      <td>True</td>\n",
       "      <td>True</td>\n",
       "      <td>mit</td>\n",
       "    </tr>\n",
       "    <tr>\n",
       "      <th>4</th>\n",
       "      <td>tj</td>\n",
       "      <td>tj/go-naturaldate</td>\n",
       "      <td>2019-11-26T14:35:09Z</td>\n",
       "      <td>300</td>\n",
       "      <td>9</td>\n",
       "      <td>Go</td>\n",
       "      <td>True</td>\n",
       "      <td>True</td>\n",
       "      <td>mit</td>\n",
       "    </tr>\n",
       "    <tr>\n",
       "      <th>...</th>\n",
       "      <td>...</td>\n",
       "      <td>...</td>\n",
       "      <td>...</td>\n",
       "      <td>...</td>\n",
       "      <td>...</td>\n",
       "      <td>...</td>\n",
       "      <td>...</td>\n",
       "      <td>...</td>\n",
       "      <td>...</td>\n",
       "    </tr>\n",
       "    <tr>\n",
       "      <th>37917</th>\n",
       "      <td>Neha</td>\n",
       "      <td>Neha/reactjs-demo</td>\n",
       "      <td>2016-05-29T01:44:15Z</td>\n",
       "      <td>4</td>\n",
       "      <td>1</td>\n",
       "      <td>JavaScript</td>\n",
       "      <td>True</td>\n",
       "      <td>True</td>\n",
       "      <td>NaN</td>\n",
       "    </tr>\n",
       "    <tr>\n",
       "      <th>37918</th>\n",
       "      <td>Neha</td>\n",
       "      <td>Neha/webcomponents</td>\n",
       "      <td>2016-05-07T19:38:55Z</td>\n",
       "      <td>1</td>\n",
       "      <td>1</td>\n",
       "      <td>JavaScript</td>\n",
       "      <td>True</td>\n",
       "      <td>True</td>\n",
       "      <td>NaN</td>\n",
       "    </tr>\n",
       "    <tr>\n",
       "      <th>37919</th>\n",
       "      <td>Neha</td>\n",
       "      <td>Neha/webcomponents-demo</td>\n",
       "      <td>2016-05-05T18:54:13Z</td>\n",
       "      <td>2</td>\n",
       "      <td>2</td>\n",
       "      <td>HTML</td>\n",
       "      <td>True</td>\n",
       "      <td>True</td>\n",
       "      <td>NaN</td>\n",
       "    </tr>\n",
       "    <tr>\n",
       "      <th>37920</th>\n",
       "      <td>Neha</td>\n",
       "      <td>Neha/React-skeleton</td>\n",
       "      <td>2016-04-16T20:20:56Z</td>\n",
       "      <td>1</td>\n",
       "      <td>1</td>\n",
       "      <td>JavaScript</td>\n",
       "      <td>True</td>\n",
       "      <td>True</td>\n",
       "      <td>NaN</td>\n",
       "    </tr>\n",
       "    <tr>\n",
       "      <th>37921</th>\n",
       "      <td>Neha</td>\n",
       "      <td>Neha/react-starter-kit</td>\n",
       "      <td>2016-04-15T09:07:04Z</td>\n",
       "      <td>6</td>\n",
       "      <td>1</td>\n",
       "      <td>JavaScript</td>\n",
       "      <td>True</td>\n",
       "      <td>True</td>\n",
       "      <td>NaN</td>\n",
       "    </tr>\n",
       "  </tbody>\n",
       "</table>\n",
       "<p>37922 rows × 9 columns</p>\n",
       "</div>"
      ],
      "text/plain": [
       "      login                full_name            created_at  stargazers_count  \\\n",
       "0        tj            tj/git-extras  2010-08-04T16:32:07Z             17309   \n",
       "1        tj                     tj/n  2011-01-05T14:53:19Z             18849   \n",
       "2        tj          tj/commander.js  2011-08-14T21:33:58Z             26709   \n",
       "3        tj          tj/node-migrate  2011-04-24T21:00:22Z              1542   \n",
       "4        tj        tj/go-naturaldate  2019-11-26T14:35:09Z               300   \n",
       "...     ...                      ...                   ...               ...   \n",
       "37917  Neha        Neha/reactjs-demo  2016-05-29T01:44:15Z                 4   \n",
       "37918  Neha       Neha/webcomponents  2016-05-07T19:38:55Z                 1   \n",
       "37919  Neha  Neha/webcomponents-demo  2016-05-05T18:54:13Z                 2   \n",
       "37920  Neha      Neha/React-skeleton  2016-04-16T20:20:56Z                 1   \n",
       "37921  Neha   Neha/react-starter-kit  2016-04-15T09:07:04Z                 6   \n",
       "\n",
       "       watchers_count    language  has_projects  has_wiki license_name  \n",
       "0                 210       Shell          True      True          mit  \n",
       "1                 203       Shell          True      True          mit  \n",
       "2                 232  JavaScript          True      True          mit  \n",
       "3                  18  JavaScript          True      True          mit  \n",
       "4                   9          Go          True      True          mit  \n",
       "...               ...         ...           ...       ...          ...  \n",
       "37917               1  JavaScript          True      True          NaN  \n",
       "37918               1  JavaScript          True      True          NaN  \n",
       "37919               2        HTML          True      True          NaN  \n",
       "37920               1  JavaScript          True      True          NaN  \n",
       "37921               1  JavaScript          True      True          NaN  \n",
       "\n",
       "[37922 rows x 9 columns]"
      ]
     },
     "execution_count": 3,
     "metadata": {},
     "output_type": "execute_result"
    }
   ],
   "source": [
    "repos = pd.read_csv(\"repositories.csv\")\n",
    "repos"
   ]
  },
  {
   "cell_type": "code",
   "execution_count": 4,
   "metadata": {},
   "outputs": [],
   "source": [
    "users.created_at = pd.to_datetime(users.created_at)\n",
    "repos.created_at = pd.to_datetime(repos.created_at)"
   ]
  },
  {
   "cell_type": "markdown",
   "metadata": {},
   "source": [
    "Who are the top 5 users in London with the highest number of followers? List their login in order, comma-separated."
   ]
  },
  {
   "cell_type": "code",
   "execution_count": 5,
   "metadata": {},
   "outputs": [
    {
     "data": {
      "text/plain": [
       "'tj,kunal-kushwaha,angelabauer,jlord,Elfocrash'"
      ]
     },
     "execution_count": 5,
     "metadata": {},
     "output_type": "execute_result"
    }
   ],
   "source": [
    "\",\".join(users.nlargest(5, \"followers\")[\"login\"])"
   ]
  },
  {
   "cell_type": "markdown",
   "metadata": {},
   "source": [
    "Who are the 5 earliest registered GitHub users in London? List their login in ascending order of created_at, comma-separated."
   ]
  },
  {
   "cell_type": "code",
   "execution_count": 6,
   "metadata": {},
   "outputs": [
    {
     "data": {
      "text/plain": [
       "'aslakhellesoy,tomstuart,sole,javache,philhawksworth'"
      ]
     },
     "execution_count": 6,
     "metadata": {},
     "output_type": "execute_result"
    }
   ],
   "source": [
    "\",\".join(users.nsmallest(5, \"created_at\")[\"login\"])"
   ]
  },
  {
   "cell_type": "markdown",
   "metadata": {},
   "source": [
    "What are the 3 most popular license among these users? Ignore missing licenses. List the license_name in order, comma-separated."
   ]
  },
  {
   "cell_type": "code",
   "execution_count": 7,
   "metadata": {},
   "outputs": [
    {
     "data": {
      "text/plain": [
       "'mit,apache-2.0,other'"
      ]
     },
     "execution_count": 7,
     "metadata": {},
     "output_type": "execute_result"
    }
   ],
   "source": [
    "\",\".join(repos[\"license_name\"].dropna().value_counts().head(3).index)"
   ]
  },
  {
   "cell_type": "markdown",
   "metadata": {},
   "source": [
    "Which company do the majority of these developers work at?"
   ]
  },
  {
   "cell_type": "code",
   "execution_count": 8,
   "metadata": {},
   "outputs": [
    {
     "data": {
      "text/plain": [
       "'FACEBOOK'"
      ]
     },
     "execution_count": 8,
     "metadata": {},
     "output_type": "execute_result"
    }
   ],
   "source": [
    "users[\"company\"].mode()[0]"
   ]
  },
  {
   "cell_type": "markdown",
   "metadata": {},
   "source": [
    "Which programming language is most popular among these users?"
   ]
  },
  {
   "cell_type": "code",
   "execution_count": 9,
   "metadata": {},
   "outputs": [
    {
     "data": {
      "text/plain": [
       "'JavaScript'"
      ]
     },
     "execution_count": 9,
     "metadata": {},
     "output_type": "execute_result"
    }
   ],
   "source": [
    "repos[\"language\"].mode()[0]"
   ]
  },
  {
   "cell_type": "markdown",
   "metadata": {},
   "source": [
    "Which programming language is the second most popular among users who joined after 2020?"
   ]
  },
  {
   "cell_type": "code",
   "execution_count": 10,
   "metadata": {},
   "outputs": [
    {
     "data": {
      "text/plain": [
       "'JavaScript'"
      ]
     },
     "execution_count": 10,
     "metadata": {},
     "output_type": "execute_result"
    }
   ],
   "source": [
    "pd.merge(users[users[\"created_at\"] >= \"2020-01-01\"], repos, on=\"login\")[\n",
    "    \"language\"\n",
    "].value_counts().index[1]"
   ]
  },
  {
   "cell_type": "markdown",
   "metadata": {},
   "source": [
    "Which language has the highest average number of stars per repository?"
   ]
  },
  {
   "cell_type": "code",
   "execution_count": 11,
   "metadata": {},
   "outputs": [
    {
     "data": {
      "text/plain": [
       "'Reason'"
      ]
     },
     "execution_count": 11,
     "metadata": {},
     "output_type": "execute_result"
    }
   ],
   "source": [
    "repos.groupby(\"language\")[\"stargazers_count\"].mean().idxmax()"
   ]
  },
  {
   "cell_type": "markdown",
   "metadata": {},
   "source": [
    "Let's define leader_strength as followers / (1 + following). Who are the top 5 in terms of leader_strength? List their login in order, comma-separated."
   ]
  },
  {
   "cell_type": "code",
   "execution_count": 12,
   "metadata": {},
   "outputs": [
    {
     "data": {
      "text/plain": [
       "'kunal-kushwaha,angelabauer,Elfocrash,LaravelDaily,sonnysangha'"
      ]
     },
     "execution_count": 12,
     "metadata": {},
     "output_type": "execute_result"
    }
   ],
   "source": [
    "users[\"leader_strength\"] = users[\"followers\"] / (1 + users[\"following\"])\n",
    "\",\".join(users.nlargest(5, \"leader_strength\")[\"login\"])"
   ]
  },
  {
   "cell_type": "markdown",
   "metadata": {},
   "source": [
    "What is the correlation between the number of followers and the number of public repositories among users in London?"
   ]
  },
  {
   "cell_type": "code",
   "execution_count": 13,
   "metadata": {},
   "outputs": [
    {
     "data": {
      "text/plain": [
       "np.float64(0.149)"
      ]
     },
     "execution_count": 13,
     "metadata": {},
     "output_type": "execute_result"
    }
   ],
   "source": [
    "round(users[\"followers\"].corr(users[\"public_repos\"]), 3)"
   ]
  },
  {
   "cell_type": "markdown",
   "metadata": {},
   "source": [
    " Does creating more repos help users get more followers? Using regression, estimate how many additional followers a user gets per additional public repository."
   ]
  },
  {
   "cell_type": "code",
   "execution_count": 14,
   "metadata": {},
   "outputs": [
    {
     "name": "stdout",
     "output_type": "stream",
     "text": [
      "                            OLS Regression Results                            \n",
      "==============================================================================\n",
      "Dep. Variable:              followers   R-squared:                       0.022\n",
      "Model:                            OLS   Adj. R-squared:                  0.019\n",
      "Method:                 Least Squares   F-statistic:                     6.832\n",
      "Date:                Sat, 02 Nov 2024   Prob (F-statistic):            0.00941\n",
      "Time:                        15:18:40   Log-Likelihood:                -2907.2\n",
      "No. Observations:                 301   AIC:                             5818.\n",
      "Df Residuals:                     299   BIC:                             5826.\n",
      "Df Model:                           1                                         \n",
      "Covariance Type:            nonrobust                                         \n",
      "================================================================================\n",
      "                   coef    std err          t      P>|t|      [0.025      0.975]\n",
      "--------------------------------------------------------------------------------\n",
      "const         1363.5427    278.391      4.898      0.000     815.688    1911.397\n",
      "public_repos     3.2469      1.242      2.614      0.009       0.802       5.692\n",
      "==============================================================================\n",
      "Omnibus:                      497.968   Durbin-Watson:                   0.189\n",
      "Prob(Omnibus):                  0.000   Jarque-Bera (JB):           127232.781\n",
      "Skew:                           8.932   Prob(JB):                         0.00\n",
      "Kurtosis:                     102.124   Cond. No.                         285.\n",
      "==============================================================================\n",
      "\n",
      "Notes:\n",
      "[1] Standard Errors assume that the covariance matrix of the errors is correctly specified.\n"
     ]
    },
    {
     "data": {
      "text/plain": [
       "np.float64(3.247)"
      ]
     },
     "execution_count": 14,
     "metadata": {},
     "output_type": "execute_result"
    }
   ],
   "source": [
    "import statsmodels.api as sm\n",
    "\n",
    "# Define the independent variable (public_repos) and dependent variable (followers)\n",
    "X = users[\"public_repos\"]\n",
    "y = users[\"followers\"]\n",
    "\n",
    "# Add a constant to the independent variable\n",
    "X = sm.add_constant(X)\n",
    "\n",
    "# Fit the regression model\n",
    "model = sm.OLS(y, X).fit()\n",
    "\n",
    "# Print the summary of the regression model\n",
    "print(model.summary())\n",
    "\n",
    "# Get the coefficient for public_repos\n",
    "round(model.params[\"public_repos\"], 3)"
   ]
  },
  {
   "cell_type": "markdown",
   "metadata": {},
   "source": [
    "Do people typically enable projects and wikis together? What is the correlation between a repo having projects enabled and having wiki enabled?"
   ]
  },
  {
   "cell_type": "code",
   "execution_count": 15,
   "metadata": {},
   "outputs": [
    {
     "data": {
      "text/plain": [
       "np.float64(0.442)"
      ]
     },
     "execution_count": 15,
     "metadata": {},
     "output_type": "execute_result"
    }
   ],
   "source": [
    "round(repos[[\"has_projects\", \"has_wiki\"]].corr().iloc[0, 1], 3)"
   ]
  },
  {
   "cell_type": "markdown",
   "metadata": {},
   "source": [
    "Do hireable users follow more people than those who are not hireable?"
   ]
  },
  {
   "cell_type": "code",
   "execution_count": 16,
   "metadata": {},
   "outputs": [
    {
     "data": {
      "text/plain": [
       "np.float64(1064.155)"
      ]
     },
     "execution_count": 16,
     "metadata": {},
     "output_type": "execute_result"
    }
   ],
   "source": [
    "round(\n",
    "    users[users[\"hireable\"]][\"following\"].mean()\n",
    "    - users[~users[\"hireable\"]][\"following\"].mean(),\n",
    "    3,\n",
    ")"
   ]
  },
  {
   "cell_type": "markdown",
   "metadata": {},
   "source": [
    "Some developers write long bios. Does that help them get more followers? What's the correlation of the length of their bio (in Unicode characters) with followers? (Ignore people without bios)"
   ]
  },
  {
   "cell_type": "code",
   "execution_count": 17,
   "metadata": {},
   "outputs": [
    {
     "data": {
      "text/plain": [
       "np.float64(3.423)"
      ]
     },
     "execution_count": 17,
     "metadata": {},
     "output_type": "execute_result"
    }
   ],
   "source": [
    "import statsmodels.api as sm\n",
    "\n",
    "# Filter out users without bios\n",
    "users_with_bio = users.dropna(subset=[\"bio\"])\n",
    "\n",
    "# Define the independent variable (bio_word_count) and dependent variable (followers)\n",
    "X = users_with_bio[\"bio\"].str.split().str.len()\n",
    "y = users_with_bio[\"followers\"]\n",
    "\n",
    "# Add a constant to the independent variable\n",
    "X = sm.add_constant(X)\n",
    "\n",
    "# Fit the regression model\n",
    "model = sm.OLS(y, X).fit()\n",
    "\n",
    "# Get the regression slope of followers on bio word count\n",
    "round(model.params[\"bio\"], 3)"
   ]
  },
  {
   "cell_type": "markdown",
   "metadata": {},
   "source": [
    "Who created the most repositories on weekends (UTC)? List the top 5 users' login in order, comma-separated"
   ]
  },
  {
   "cell_type": "code",
   "execution_count": 18,
   "metadata": {},
   "outputs": [
    {
     "data": {
      "text/plain": [
       "'praveenscience,passy,CodeMaster7000,mattdesl,UKVeteran'"
      ]
     },
     "execution_count": 18,
     "metadata": {},
     "output_type": "execute_result"
    }
   ],
   "source": [
    "\",\".join(repos[repos[\"created_at\"].dt.dayofweek >= 5].groupby(\"login\").size().nlargest(5).index)"
   ]
  },
  {
   "cell_type": "markdown",
   "metadata": {},
   "source": [
    "Do people who are hireable share their email addresses more often?"
   ]
  },
  {
   "cell_type": "code",
   "execution_count": 19,
   "metadata": {},
   "outputs": [
    {
     "data": {
      "text/plain": [
       "np.float64(0.075)"
      ]
     },
     "execution_count": 19,
     "metadata": {},
     "output_type": "execute_result"
    }
   ],
   "source": [
    "round(\n",
    "    users[users[\"hireable\"]][\"email\"].notna().mean()\n",
    "    - users[~users[\"hireable\"]][\"email\"].notna().mean(),\n",
    "    3,\n",
    ")"
   ]
  },
  {
   "cell_type": "markdown",
   "metadata": {},
   "source": [
    "Let's assume that the last word in a user's name is their surname (ignore missing names, trim and split by whitespace.) What's the most common surname? (If there's a tie, list them all, comma-separated, alphabetically)"
   ]
  },
  {
   "cell_type": "code",
   "execution_count": 20,
   "metadata": {},
   "outputs": [
    {
     "data": {
      "text/plain": [
       "'Appleton,Fuller,Greenfeld,Jackson,Li,Williams'"
      ]
     },
     "execution_count": 20,
     "metadata": {},
     "output_type": "execute_result"
    }
   ],
   "source": [
    "# Drop rows with missing names\n",
    "users_with_names = users.dropna(subset=[\"name\"]).copy()\n",
    "\n",
    "# Extract the last word in the name as the surname\n",
    "users_with_names[\"surname\"] = users_with_names[\"name\"].str.split().str[-1]\n",
    "\n",
    "# Find the most common surname(s)\n",
    "surname_counts = users_with_names[\"surname\"].value_counts()\n",
    "most_common_surnames = surname_counts[surname_counts == surname_counts.max()].index\n",
    "\n",
    "# List the most common surname(s) comma-separated\n",
    "\",\".join(sorted(most_common_surnames))"
   ]
  }
 ],
 "metadata": {
  "kernelspec": {
   "display_name": "venv",
   "language": "python",
   "name": "python3"
  },
  "language_info": {
   "codemirror_mode": {
    "name": "ipython",
    "version": 3
   },
   "file_extension": ".py",
   "mimetype": "text/x-python",
   "name": "python",
   "nbconvert_exporter": "python",
   "pygments_lexer": "ipython3",
   "version": "3.12.3"
  }
 },
 "nbformat": 4,
 "nbformat_minor": 2
}
